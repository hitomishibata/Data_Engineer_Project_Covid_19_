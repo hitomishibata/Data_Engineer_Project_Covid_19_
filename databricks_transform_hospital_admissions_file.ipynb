{
 "cells": [
  {
   "cell_type": "code",
   "execution_count": 0,
   "metadata": {
    "application/vnd.databricks.v1+cell": {
     "cellMetadata": {
      "byteLimit": 2048000,
      "rowLimit": 10000
     },
     "inputWidgets": {},
     "nuid": "764572f9-6e25-426b-afe1-cf828ca9a851",
     "showTitle": false,
     "title": ""
    }
   },
   "outputs": [],
   "source": [
    "%run \"../include/configuration\""
   ]
  },
  {
   "cell_type": "code",
   "execution_count": 0,
   "metadata": {
    "application/vnd.databricks.v1+cell": {
     "cellMetadata": {
      "byteLimit": 2048000,
      "rowLimit": 10000
     },
     "inputWidgets": {},
     "nuid": "20886af5-1348-45b6-ba35-5879330d8fdb",
     "showTitle": false,
     "title": ""
    }
   },
   "outputs": [],
   "source": [
    "from pyspark.sql.types import *"
   ]
  },
  {
   "cell_type": "code",
   "execution_count": 0,
   "metadata": {
    "application/vnd.databricks.v1+cell": {
     "cellMetadata": {
      "byteLimit": 2048000,
      "rowLimit": 10000
     },
     "inputWidgets": {},
     "nuid": "f01ac0fb-971a-471e-88af-35c9697b97af",
     "showTitle": false,
     "title": ""
    }
   },
   "outputs": [],
   "source": [
    "hospital_schema = StructType(fields=[StructField(\"country\", StringType(), False),\n",
    "                                     StructField(\"date\", DateType(), False),\n",
    "                                     StructField(\"indicator\", StringType(), True),\n",
    "                                     StructField(\"source\", StringType(), True),\n",
    "                                     StructField(\"value\", DoubleType(), True),\n",
    "                                     StructField(\"year_week\", StringType(), True)])"
   ]
  },
  {
   "cell_type": "code",
   "execution_count": 0,
   "metadata": {
    "application/vnd.databricks.v1+cell": {
     "cellMetadata": {
      "byteLimit": 2048000,
      "rowLimit": 10000
     },
     "inputWidgets": {},
     "nuid": "328d3cad-9343-4f3e-8b44-88effd27d342",
     "showTitle": false,
     "title": ""
    }
   },
   "outputs": [],
   "source": [
    "hospital_admission_df = spark.read.option(\"multiline\", True).schema(hospital_schema).json(f\"{raw_covid_folder_path}/hospital_admission.json\")"
   ]
  },
  {
   "cell_type": "code",
   "execution_count": 0,
   "metadata": {
    "application/vnd.databricks.v1+cell": {
     "cellMetadata": {
      "byteLimit": 2048000,
      "rowLimit": 10000
     },
     "inputWidgets": {},
     "nuid": "f3a809a9-711b-41a8-8427-3f03313f9d30",
     "showTitle": false,
     "title": ""
    }
   },
   "outputs": [],
   "source": [
    "lookup_country_df = spark.read.option(\"header\", True).csv(f\"{raw_covid_folder_path}/lookup/country_lookup.csv\")\n",
    "lookup_date_df = spark.read.option(\"header\", True).csv(f\"{raw_covid_folder_path}/lookup/dim_date.csv\")"
   ]
  },
  {
   "cell_type": "code",
   "execution_count": 0,
   "metadata": {
    "application/vnd.databricks.v1+cell": {
     "cellMetadata": {
      "byteLimit": 2048000,
      "rowLimit": 10000
     },
     "inputWidgets": {},
     "nuid": "13dd62cc-67c2-4cbe-b4ef-5db665f59807",
     "showTitle": false,
     "title": ""
    }
   },
   "outputs": [],
   "source": [
    "country_joined_hospital_df = hospital_admission_df.join(lookup_country_df, hospital_admission_df.country == lookup_country_df.country).select(hospital_admission_df.country, lookup_country_df.country_code_2_digit, lookup_country_df.population, lookup_country_df.continent, hospital_admission_df.date, hospital_admission_df.indicator, hospital_admission_df.value, hospital_admission_df.year_week, hospital_admission_df.source)"
   ]
  },
  {
   "cell_type": "code",
   "execution_count": 0,
   "metadata": {
    "application/vnd.databricks.v1+cell": {
     "cellMetadata": {
      "byteLimit": 2048000,
      "rowLimit": 10000
     },
     "inputWidgets": {},
     "nuid": "516f2a58-a266-4572-9518-d5e937b68248",
     "showTitle": false,
     "title": ""
    }
   },
   "outputs": [],
   "source": [
    "daily_hospital_df = country_joined_hospital_df.filter(country_joined_hospital_df[\"indicator\"].contains(\"Daily\"))\n",
    "weekly_hospital_df =  country_joined_hospital_df.filter(country_joined_hospital_df[\"indicator\"].contains(\"Weekly\"))"
   ]
  },
  {
   "cell_type": "code",
   "execution_count": 0,
   "metadata": {
    "application/vnd.databricks.v1+cell": {
     "cellMetadata": {
      "byteLimit": 2048000,
      "rowLimit": 10000
     },
     "inputWidgets": {},
     "nuid": "63f04c21-36a7-41a9-96e3-498047d8a0b5",
     "showTitle": false,
     "title": ""
    }
   },
   "outputs": [],
   "source": [
    "from pyspark.sql.functions import *"
   ]
  },
  {
   "cell_type": "code",
   "execution_count": 0,
   "metadata": {
    "application/vnd.databricks.v1+cell": {
     "cellMetadata": {
      "byteLimit": 2048000,
      "rowLimit": 10000
     },
     "inputWidgets": {},
     "nuid": "becdc8f1-fc76-4a9e-808d-9c2502d76269",
     "showTitle": false,
     "title": ""
    }
   },
   "outputs": [],
   "source": [
    "pivot_daily_hospital_df = daily_hospital_df.groupBy(\"date\", \"country\",\"country_code_2_digit\",\"population\", \"continent\", \"source\").pivot(\"indicator\").agg(sum(\"value\"))"
   ]
  },
  {
   "cell_type": "code",
   "execution_count": 0,
   "metadata": {
    "application/vnd.databricks.v1+cell": {
     "cellMetadata": {
      "byteLimit": 2048000,
      "rowLimit": 10000
     },
     "inputWidgets": {},
     "nuid": "0c7810a0-74a0-488b-884c-5d80c24304c5",
     "showTitle": false,
     "title": ""
    }
   },
   "outputs": [],
   "source": [
    "final_daily_hospital_df = pivot_daily_hospital_df.select(col(\"date\"), col(\"country\"), col(\"country_code_2_digit\"), col(\"population\"), col(\"continent\"), col(\"Daily ICU occupancy\").alias(\"daily_icu_occupancy\"), col(\"Daily hospital occupancy\").alias(\"daily_hospital_occupancy\"), col(\"source\")).orderBy(desc(\"date\"))"
   ]
  },
  {
   "cell_type": "code",
   "execution_count": 0,
   "metadata": {
    "application/vnd.databricks.v1+cell": {
     "cellMetadata": {
      "byteLimit": 2048000,
      "rowLimit": 10000
     },
     "inputWidgets": {},
     "nuid": "f2a6ae6b-73e0-494e-b7f1-1ec8f7da9e6b",
     "showTitle": false,
     "title": ""
    }
   },
   "outputs": [],
   "source": [
    "year_week_lookup_df = lookup_date_df.withColumn(\"year_week_1\", regexp_replace(col(\"year_week\"), \"(\\\\d{4})(\\\\d{2})\", \"$1-W$2\"))"
   ]
  },
  {
   "cell_type": "code",
   "execution_count": 0,
   "metadata": {
    "application/vnd.databricks.v1+cell": {
     "cellMetadata": {
      "byteLimit": 2048000,
      "rowLimit": 10000
     },
     "inputWidgets": {},
     "nuid": "318ae8a8-d589-458d-a0a0-0fc40fd1b76c",
     "showTitle": false,
     "title": ""
    }
   },
   "outputs": [],
   "source": [
    "year_week_lookup_df = year_week_lookup_df.groupBy(\"year_week_1\").agg(min(col(\"date\")).alias(\"week_first_date\"), max(col(\"date\")).alias(\"week_last_date\"))"
   ]
  },
  {
   "cell_type": "code",
   "execution_count": 0,
   "metadata": {
    "application/vnd.databricks.v1+cell": {
     "cellMetadata": {
      "byteLimit": 2048000,
      "rowLimit": 10000
     },
     "inputWidgets": {},
     "nuid": "2e5a9b4e-cdc6-4965-9531-b8ea67863e06",
     "showTitle": false,
     "title": ""
    }
   },
   "outputs": [],
   "source": [
    "joined_weekly_hospital_df = weekly_hospital_df.join(year_week_lookup_df, weekly_hospital_df.year_week == year_week_lookup_df.year_week_1)"
   ]
  },
  {
   "cell_type": "code",
   "execution_count": 0,
   "metadata": {
    "application/vnd.databricks.v1+cell": {
     "cellMetadata": {
      "byteLimit": 2048000,
      "rowLimit": 10000
     },
     "inputWidgets": {},
     "nuid": "85b4dcff-b1ae-48a5-be94-9b32110e4c96",
     "showTitle": false,
     "title": ""
    }
   },
   "outputs": [
    {
     "output_type": "display_data",
     "data": {
      "text/plain": [
       ""
      ]
     },
     "metadata": {
      "application/vnd.databricks.v1+output": {
       "arguments": {},
       "data": "",
       "errorSummary": "Command skipped",
       "errorTraceType": "ansi",
       "metadata": {},
       "type": "ipynbError"
      }
     },
     "output_type": "display_data"
    }
   ],
   "source": [
    "pivot_weekly_hospital_df = joined_weekly_hospital_df.groupBy(\"country\", \"country_code_2_digit\", \"population\", \"continent\", \"year_week\", \"week_first_date\", \"week_last_date\", \"source\").pivot(\"indicator\").agg(sum(\"value\"))"
   ]
  },
  {
   "cell_type": "code",
   "execution_count": 0,
   "metadata": {
    "application/vnd.databricks.v1+cell": {
     "cellMetadata": {
      "byteLimit": 2048000,
      "rowLimit": 10000
     },
     "inputWidgets": {},
     "nuid": "f6510066-ec1b-465f-ac9e-6dd8ff7ec701",
     "showTitle": false,
     "title": ""
    }
   },
   "outputs": [
    {
     "output_type": "display_data",
     "data": {
      "text/plain": [
       ""
      ]
     },
     "metadata": {
      "application/vnd.databricks.v1+output": {
       "arguments": {},
       "data": "",
       "errorSummary": "Command skipped",
       "errorTraceType": "ansi",
       "metadata": {},
       "type": "ipynbError"
      }
     },
     "output_type": "display_data"
    }
   ],
   "source": [
    "final_weekly_hospital_df = pivot_weekly_hospital_df.select(col(\"year_week\"), col(\"week_first_date\"), col(\"week_last_date\"), col(\"country\"), col(\"country_code_2_digit\"), col(\"population\"), col(\"continent\"), col(\"Weekly new ICU admissions per 100k\").alias(\"weekly_new_icu_admissions_per_100k\"), col(\"Weekly new hospital admissions per 100k\").alias(\"weekly_new_hospital_admissions_per_100k\"), col(\"source\")).orderBy(desc(\"year_week\"))"
   ]
  },
  {
   "cell_type": "code",
   "execution_count": 0,
   "metadata": {
    "application/vnd.databricks.v1+cell": {
     "cellMetadata": {
      "byteLimit": 2048000,
      "rowLimit": 10000
     },
     "inputWidgets": {},
     "nuid": "6ef1afe3-88e9-4a3e-8c39-500c124a4672",
     "showTitle": false,
     "title": ""
    }
   },
   "outputs": [
    {
     "output_type": "display_data",
     "data": {
      "text/plain": [
       ""
      ]
     },
     "metadata": {
      "application/vnd.databricks.v1+output": {
       "arguments": {},
       "data": "",
       "errorSummary": "Command skipped",
       "errorTraceType": "ansi",
       "metadata": {},
       "type": "ipynbError"
      }
     },
     "output_type": "display_data"
    }
   ],
   "source": [
    "final_daily_hospital_df.write.mode(\"overwrite\").partitionBy(\"date\").parquet(f\"{processed_covid_folder_path}/daily_hospital_admissions\")"
   ]
  },
  {
   "cell_type": "code",
   "execution_count": 0,
   "metadata": {
    "application/vnd.databricks.v1+cell": {
     "cellMetadata": {
      "byteLimit": 2048000,
      "rowLimit": 10000
     },
     "inputWidgets": {},
     "nuid": "573522b9-446e-4703-9560-ee92f97b0931",
     "showTitle": false,
     "title": ""
    }
   },
   "outputs": [
    {
     "output_type": "display_data",
     "data": {
      "text/plain": [
       ""
      ]
     },
     "metadata": {
      "application/vnd.databricks.v1+output": {
       "arguments": {},
       "data": "",
       "errorSummary": "Command skipped",
       "errorTraceType": "ansi",
       "metadata": {},
       "type": "ipynbError"
      }
     },
     "output_type": "display_data"
    }
   ],
   "source": [
    "final_weekly_hospital_df.write.mode(\"overwrite\").partitionBy(\"year_week\").parquet(f\"{processed_covid_folder_path}/weekly_hospital_admissions\")"
   ]
  },
  {
   "cell_type": "code",
   "execution_count": 0,
   "metadata": {
    "application/vnd.databricks.v1+cell": {
     "cellMetadata": {
      "byteLimit": 2048000,
      "rowLimit": 10000
     },
     "inputWidgets": {},
     "nuid": "13498ea2-eefc-42e4-8a25-cdaf00553dde",
     "showTitle": false,
     "title": ""
    }
   },
   "outputs": [
    {
     "output_type": "display_data",
     "data": {
      "text/plain": [
       ""
      ]
     },
     "metadata": {
      "application/vnd.databricks.v1+output": {
       "arguments": {},
       "data": "",
       "errorSummary": "Command skipped",
       "errorTraceType": "ansi",
       "metadata": {},
       "type": "ipynbError"
      }
     },
     "output_type": "display_data"
    }
   ],
   "source": [
    "daily_hospital_df = spark.read.option(\"header\", True).parquet(f\"{processed_covid_folder_path}/daily_hospital_admissions\")"
   ]
  },
  {
   "cell_type": "code",
   "execution_count": 0,
   "metadata": {
    "application/vnd.databricks.v1+cell": {
     "cellMetadata": {
      "byteLimit": 2048000,
      "rowLimit": 10000
     },
     "inputWidgets": {},
     "nuid": "eb121396-2e5e-410b-a8ad-5b4ec95b094a",
     "showTitle": false,
     "title": ""
    }
   },
   "outputs": [
    {
     "output_type": "display_data",
     "data": {
      "text/plain": [
       ""
      ]
     },
     "metadata": {
      "application/vnd.databricks.v1+output": {
       "arguments": {},
       "data": "",
       "errorSummary": "Command skipped",
       "errorTraceType": "ansi",
       "metadata": {},
       "type": "ipynbError"
      }
     },
     "output_type": "display_data"
    }
   ],
   "source": [
    "weekly_hospital_df = spark.read.option(\"header\", True).parquet(f\"{processed_covid_folder_path}/weekly_hospital_admissions\")"
   ]
  },
  {
   "cell_type": "code",
   "execution_count": 0,
   "metadata": {
    "application/vnd.databricks.v1+cell": {
     "cellMetadata": {
      "byteLimit": 2048000,
      "rowLimit": 10000
     },
     "inputWidgets": {},
     "nuid": "76827dad-5b64-4164-91b5-e58c62e9670f",
     "showTitle": false,
     "title": ""
    }
   },
   "outputs": [
    {
     "output_type": "display_data",
     "data": {
      "text/plain": [
       ""
      ]
     },
     "metadata": {
      "application/vnd.databricks.v1+output": {
       "arguments": {},
       "data": "",
       "errorSummary": "Command skipped",
       "errorTraceType": "ansi",
       "metadata": {},
       "type": "ipynbError"
      }
     },
     "output_type": "display_data"
    }
   ],
   "source": [
    "daily_hospital_df.write.format(\"parquet\").saveAsTable(\"daily_hospital_admissions\")"
   ]
  },
  {
   "cell_type": "code",
   "execution_count": 0,
   "metadata": {
    "application/vnd.databricks.v1+cell": {
     "cellMetadata": {
      "byteLimit": 2048000,
      "rowLimit": 10000
     },
     "inputWidgets": {},
     "nuid": "d0908ce2-7d43-425a-8bf7-bfbc947bc23b",
     "showTitle": false,
     "title": ""
    }
   },
   "outputs": [
    {
     "output_type": "display_data",
     "data": {
      "text/plain": [
       ""
      ]
     },
     "metadata": {
      "application/vnd.databricks.v1+output": {
       "arguments": {},
       "data": "",
       "errorSummary": "Command skipped",
       "errorTraceType": "ansi",
       "metadata": {},
       "type": "ipynbError"
      }
     },
     "output_type": "display_data"
    }
   ],
   "source": [
    "weekly_hospital_df.write.format(\"parquet\").saveAsTable(\"weekly_hospital_admissions\")"
   ]
  }
 ],
 "metadata": {
  "application/vnd.databricks.v1+notebook": {
   "dashboards": [],
   "language": "python",
   "notebookMetadata": {
    "mostRecentlyExecutedCommandWithImplicitDF": {
     "commandId": 2519359405802605,
     "dataframes": [
      "_sqldf"
     ]
    },
    "pythonIndentUnit": 4
   },
   "notebookName": "transform_hospital_admissions_file",
   "widgets": {}
  }
 },
 "nbformat": 4,
 "nbformat_minor": 0
}
